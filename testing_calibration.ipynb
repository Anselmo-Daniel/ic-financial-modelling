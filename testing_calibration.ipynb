{
 "cells": [
  {
   "cell_type": "code",
   "execution_count": 1,
   "id": "ebc725df",
   "metadata": {},
   "outputs": [],
   "source": [
    "# using Pkg\n",
    "# Pkg.add(\"LinearAlgebra\")\n",
    "# Pkg.add(\"Statistics\")\n",
    "# Pkg.add(\"LsqFit\")\n",
    "# Pkg.add(\"CSV\")\n",
    "# Pkg.add(\"DataFrames\")\n",
    "# Pkg.add(\"IterTools\")\n",
    "# Pkg.add(\"DataStructures\")\n",
    "# Pkg.add(\"JuMP\")\n",
    "# Pkg.add(\"Ipopt\")\n",
    "# Pkg.add(\"ForwardDiff\")\n",
    "# Pkg.add(\"OrderedCollections\")\n",
    "# Pkg.add(\"Dates\")\n",
    "# Pkg.add(\"Plots\")\n",
    "# Pkg.add(\"StatsPlots\")\n",
    "# Pkg.add(\"Distributions\")\n",
    "# Pkg.add(\"Random\")\n",
    "# Pkg.add(\"Optim\")\n",
    "# Pkg.add(\"Printf\")\n",
    "# Pkg.add(\"StatsBase\")\n",
    "# Pkg.add(\"LaTeXStrings\")"
   ]
  },
  {
   "cell_type": "code",
   "execution_count": 2,
   "id": "c9f5ea19",
   "metadata": {},
   "outputs": [],
   "source": [
    "using LinearAlgebra\n",
    "using Statistics\n",
    "using LsqFit\n",
    "using CSV\n",
    "using DataFrames\n",
    "using Base.Iterators\n",
    "using DataStructures\n",
    "using JuMP\n",
    "using Ipopt\n",
    "using ForwardDiff\n",
    "using OrderedCollections\n",
    "using Dates\n",
    "using Plots\n",
    "using StatsPlots\n",
    "using Distributions\n",
    "using Random\n",
    "using StatsBase\n",
    "using LaTeXStrings \n",
    "using Optim\n",
    "using Printf"
   ]
  },
  {
   "cell_type": "code",
   "execution_count": 3,
   "id": "47c408d4",
   "metadata": {},
   "outputs": [
    {
     "name": "stdout",
     "output_type": "stream",
     "text": [
      "Feller Condition: 1.8196\n",
      " \n",
      "Variance: 0.0004\n"
     ]
    }
   ],
   "source": [
    "const TRUE_KAPPA = 7.0\n",
    "const TRUE_THETA = 0.13\n",
    "const TRUE_SIGMA = 0.02\n",
    "\n",
    "println(\"Feller Condition: \", 2*TRUE_KAPPA*TRUE_THETA - TRUE_SIGMA^2 )\n",
    "println(\" \")\n",
    "println(\"Variance: \", TRUE_SIGMA^2)"
   ]
  },
  {
   "cell_type": "code",
   "execution_count": 4,
   "id": "13a3468b",
   "metadata": {},
   "outputs": [
    {
     "data": {
      "text/plain": [
       "simulate_cir_paths"
      ]
     },
     "metadata": {},
     "output_type": "display_data"
    }
   ],
   "source": [
    "\"\"\"\n",
    "    simulate_cir_paths(n_sim; ...)\n",
    "\n",
    "Gera um (ou mais) caminho(s) do modelo CIR com os parâmetros verdadeiros.\n",
    "\"\"\"\n",
    "function simulate_cir_paths(r0::Float64, T::Float64, N::Int, n_sim::Int; kappa=TRUE_KAPPA, theta=TRUE_THETA, sigma=TRUE_SIGMA)\n",
    "    # Simulation Parameters\n",
    "    dt = T/N       # Time step size\n",
    "\n",
    "    rates = zeros(N + 1, n_sim)\n",
    "    rates[1, :] .= r0\n",
    "    Z = rand(Normal(0, 1), N, n_sim)\n",
    "\n",
    "    for t in 1:N\n",
    "        sqrt_r_t = @. sqrt(max(0, rates[t, :]))\n",
    "        rates[t+1, :] = @. rates[t, :] + kappa * (theta - rates[t, :]) * dt +\n",
    "                         sigma * sqrt_r_t * sqrt(dt) * Z[t, :]\n",
    "    end\n",
    "    return rates, T, N, dt\n",
    "end"
   ]
  },
  {
   "cell_type": "code",
   "execution_count": 5,
   "id": "142fa2b7",
   "metadata": {},
   "outputs": [
    {
     "data": {
      "text/plain": [
       "ols_model"
      ]
     },
     "metadata": {},
     "output_type": "display_data"
    }
   ],
   "source": [
    "\"\"\"\n",
    "    ols_model(initial_guess, taxas) -> k, theta, r0_calibrated\n",
    "\n",
    "Calibra kappa, theta e r0 usando LsqFit (ajuste de curva).\n",
    "\"\"\"\n",
    "function ols_model(initial_guess::Vector{Float64}, taxas::Vector{Float64})\n",
    "    t_data = (0:length(taxas)-1) ./ (length(taxas)-1)\n",
    "\n",
    "    # O modelo continua com 3 parâmetros: [kappa, theta, r0]\n",
    "    model_fun(t, params) = @. params[2] + (params[3] - params[2]) * exp(-params[1] * t)\n",
    "    \n",
    "    # Limites para os 3 parâmetros\n",
    "    lower = [0.0, 0.0, 0.0]\n",
    "    upper = [Inf, Inf, Inf]\n",
    "    \n",
    "    # Agora usa o 'initial_guess' que foi passado como argumento\n",
    "    fit = curve_fit(model_fun, t_data, taxas, initial_guess, lower=lower, upper=upper)\n",
    "    k, theta, r0_calibrated = fit.param\n",
    "\n",
    "    return k, theta, r0_calibrated\n",
    "end"
   ]
  },
  {
   "cell_type": "code",
   "execution_count": 6,
   "id": "aa88743d",
   "metadata": {},
   "outputs": [
    {
     "data": {
      "text/plain": [
       "estimate_sigma_squared"
      ]
     },
     "metadata": {},
     "output_type": "display_data"
    }
   ],
   "source": [
    "\"\"\"\n",
    "    estimate_sigma_squared(path, T, N, dt, r0, kappa, theta)\n",
    "\n",
    "Estima sigma ao quadrado usando o método Z(t) com os kappa e theta já calibrados.\n",
    "\"\"\"\n",
    "function estimate_sigma_squared(path::Vector{Float64}, T::Float64, N::Int, dt::Float64, r0::Float64, kappa::Float64, theta::Float64)\n",
    "    t_points = 0:dt:T\n",
    "    num_points = N + 1\n",
    "    \n",
    "    # Usa os parâmetros calibrados para calcular r_bar, y, F\n",
    "    r_bar = @. theta + (r0 - theta) * exp(-kappa * t_points)\n",
    "    y = @. exp(kappa * t_points) * (path - r_bar)\n",
    "    \n",
    "    F_term_1 = @. (r0 - theta) * (exp(kappa * t_points) - 1)\n",
    "    F_term_2 = @. (theta/2) * (exp(2*kappa * t_points) - 1)\n",
    "    F = @. (F_term_1 + F_term_2) / kappa\n",
    "    \n",
    "    z_trajectory = zeros(num_points)\n",
    "    \n",
    "    for i in 2:num_points\n",
    "        numerator = y[i]^2\n",
    "        denominator = F[i] # F[1] é F(0), que é 0\n",
    "        z_trajectory[i] = denominator > 1e-9 ? numerator / denominator : NaN\n",
    "    end\n",
    "    \n",
    "    # A estimativa é a média dos Z(t) calculados ao longo do tempo\n",
    "    return mean(filter(isfinite, z_trajectory))\n",
    "end"
   ]
  },
  {
   "cell_type": "code",
   "execution_count": 7,
   "id": "6e0068d8",
   "metadata": {},
   "outputs": [
    {
     "data": {
      "text/plain": [
       "calibrate_cir_mle (generic function with 1 method)"
      ]
     },
     "metadata": {},
     "output_type": "display_data"
    }
   ],
   "source": [
    "function calibrate_cir_mle(rates::Vector{Float64}, dt::Float64)\n",
    "    \"\"\"\n",
    "    Calibra os parâmetros do CIR (κ, θ, σ) via Máxima Verossimilhança (MLE)\n",
    "    usando a distribuição exata (Qui-Quadrado Não-Central).\n",
    "    \"\"\"\n",
    "    \n",
    "    function log_likelihood(params)\n",
    "        kappa, theta, sigma = params[1], params[2], params[3]\n",
    "        \n",
    "        if kappa <= 0 || theta <= 0 || sigma <= 0 || 2 * kappa * theta < sigma^2\n",
    "             return -Inf\n",
    "        end\n",
    "\n",
    "        total_loglik = 0.0\n",
    "        for i in 2:length(rates)\n",
    "            r_prev = rates[i-1]\n",
    "            r_curr = rates[i]\n",
    "            \n",
    "            # Se a simulação produziu uma taxa negativa, ela está fora do domínio\n",
    "            # da distribuição Qui-Quadrado. Penalizamos fortemente essa combinação\n",
    "            if r_curr < 0\n",
    "                return -Inf\n",
    "            end\n",
    "\n",
    "            # Passo 2 da Teoria: Calcular c, ν (dof), e λ (nc)\n",
    "            c = 2 * kappa / (sigma^2 * (1 - exp(-kappa * dt)))\n",
    "            dof = 4 * kappa * theta / sigma^2      # ν = graus de liberdade\n",
    "            nc = 2 * c * r_prev * exp(-kappa * dt) # λ = parâmetro de não-centralidade\n",
    "            \n",
    "            dist = NoncentralChisq(dof, nc)\n",
    "            scaled_variable = 2 * c * r_curr\n",
    "            \n",
    "            loglik_term = log(2c) + logpdf(dist, scaled_variable)\n",
    "            \n",
    "            if isinf(loglik_term) || isnan(loglik_term)\n",
    "                return -Inf\n",
    "            end\n",
    "            total_loglik += loglik_term\n",
    "        end\n",
    "        return total_loglik\n",
    "    end\n",
    "\n",
    "    # O resto da função (objective_function, optimize, etc.) permanece o mesmo\n",
    "    objective_function(params) = -log_likelihood(params)\n",
    "    \n",
    "    initial_guess = [0.5, 0.1, 0.1]\n",
    "    lower_bounds = [1e-5, 1e-5, 1e-5]\n",
    "    upper_bounds = [Inf, Inf, Inf]\n",
    "\n",
    "    result = optimize(objective_function, lower_bounds, upper_bounds, initial_guess, Fminbox(BFGS()))\n",
    "    \n",
    "    if Optim.converged(result)\n",
    "        return Optim.minimizer(result)\n",
    "    else\n",
    "        println(\"A otimização não convergiu.\")\n",
    "        return [NaN, NaN, NaN]\n",
    "    end\n",
    "end"
   ]
  },
  {
   "cell_type": "code",
   "execution_count": null,
   "id": "83e04e7f",
   "metadata": {},
   "outputs": [
    {
     "name": "stdout",
     "output_type": "stream",
     "text": [
      "--- Passo 1: Gerando um caminho com parâmetros conhecidos ---\n",
      "Caminho gerado com sucesso.\n",
      "\n",
      "--- Método 1: Calibragem em Duas Etapas (com r0 calibrado) ---\n",
      "\n",
      "--- Método 2: Máxima Verossimilhança (MLE) ---"
     ]
    }
   ],
   "source": [
    "# --- BLOCO PRINCIPAL DE EXECUÇÃO -----\n",
    "\n",
    "println(\"--- Passo 1: Gerando um caminho com parâmetros conhecidos ---\")\n",
    "paths, T, N, dt = simulate_cir_paths(0.129, 0.20, 66, 1)\n",
    "simulated_path = vec(paths)\n",
    "r0_real = simulated_path[1]\n",
    "println(\"Caminho gerado com sucesso.\\n\")\n",
    "\n",
    "# --- ANÁLISE COM O SEU MÉTODO ---\n",
    "println(\"--- Método 1: Calibragem em Duas Etapas (com r0 calibrado) ---\")\n",
    "# Define o chute inicial aqui no bloco principal\n",
    "initial_guess_ols = [7.0, 0.13, 0.2]\n",
    "# Passa o chute inicial como argumento para a função\n",
    "kappa_seu, theta_seu, r0_seu = ols_model(initial_guess_ols, simulated_path)\n",
    "sigma_sq_seu = estimate_sigma_squared(simulated_path, T, N, dt, r0_seu, kappa_seu, theta_seu)\n",
    "sigma_seu = sqrt(sigma_sq_seu)\n",
    "\n",
    "# --- ANÁLISE COM MÁXIMA VEROSSIMILHANÇA ---\n",
    "println(\"\\n--- Método 2: Máxima Verossimilhança (MLE) ---\")\n",
    "kappa_mle, theta_mle, sigma_mle = calibrate_cir_mle(simulated_path, dt)\n",
    "\n",
    "# --- COMPARAÇÃO FINAL ---\n",
    "println(\"\\n--- Tabela Comparativa de Resultados ---\")\n",
    "@printf \"%-10s | %-16s | %-25s | %-25s\\n\" \"Parâmetro\" \"Valor Verdadeiro\" \"Seu Método (Erro Rel.)\" \"MLE (Erro Rel.)\"\n",
    "println(\"-\"^80)\n",
    "err_k_seu_str = @sprintf \"%.2f%%\" 100*abs(kappa_seu - TRUE_KAPPA)/TRUE_KAPPA\n",
    "err_k_mle_str = @sprintf \"%.2f%%\" 100*abs(kappa_mle - TRUE_KAPPA)/TRUE_KAPPA\n",
    "@printf \"%-10s | %-16.4f | %-10.4f (%-12s) | %-10.4f (%-12s)\\n\" \"Kappa\" TRUE_KAPPA kappa_seu err_k_seu_str kappa_mle err_k_mle_str\n",
    "err_t_seu_str = @sprintf \"%.2f%%\" 100*abs(theta_seu - TRUE_THETA)/TRUE_THETA\n",
    "err_t_mle_str = @sprintf \"%.2f%%\" 100*abs(theta_mle - TRUE_THETA)/TRUE_THETA\n",
    "@printf \"%-10s | %-16.4f | %-10.4f (%-12s) | %-10.4f (%-12s)\\n\" \"Theta\" TRUE_THETA theta_seu err_t_seu_str theta_mle err_t_mle_str\n",
    "err_s_seu_str = @sprintf \"%.2f%%\" 100*abs(sigma_seu - TRUE_SIGMA)/TRUE_SIGMA\n",
    "err_s_mle_str = @sprintf \"%.2f%%\" 100*abs(sigma_mle - TRUE_SIGMA)/TRUE_SIGMA\n",
    "@printf \"%-10s | %-16.4f | %-10.4f (%-12s) | %-10.4f (%-12s)\\n\" \"Sigma\" TRUE_SIGMA sigma_seu err_s_seu_str sigma_mle err_s_mle_str\n",
    "\n",
    "# --- GRÁFICO COMPARATIVO DOS AJUSTES ---\n",
    "t_plot = (0:N) ./ N\n",
    "p = plot(t_plot, simulated_path, label=\"Caminho Simulado\", title=\"Comparação dos Ajustes de Modelo\", xlabel=\"Tempo (Anos)\", ylabel=\"Taxa de Juros\", linewidth=2.5, legend=:best)\n",
    "plot!(p, t_plot, t -> theta_seu + (r0_seu - theta_seu) * exp(-kappa_seu * t), label=\"Ajuste (Seu Método)\", linestyle=:dash, linewidth=2)\n",
    "plot!(p, t_plot, t -> theta_mle + (simulated_path[1] - theta_mle) * exp(-kappa_mle * t), label=\"Ajuste (MLE)\", linestyle=:dot, linewidth=2)\n",
    "plot!(p, t_plot, t -> TRUE_THETA + (r0_real - TRUE_THETA) * exp(-TRUE_KAPPA * t), label=\"Curva Teórica\", linestyle=:solid, color=:black, linewidth=2)\n",
    "display(p)"
   ]
  }
 ],
 "metadata": {
  "kernelspec": {
   "display_name": "Julia 1.11.7",
   "language": "julia",
   "name": "julia-1.11"
  },
  "language_info": {
   "file_extension": ".jl",
   "mimetype": "application/julia",
   "name": "julia",
   "version": "1.11.7"
  }
 },
 "nbformat": 4,
 "nbformat_minor": 5
}
